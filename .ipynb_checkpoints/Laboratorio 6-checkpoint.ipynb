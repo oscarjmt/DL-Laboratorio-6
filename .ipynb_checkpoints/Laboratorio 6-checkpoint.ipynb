{
 "cells": [
  {
   "cell_type": "markdown",
   "id": "41a6e921",
   "metadata": {},
   "source": [
    "Juan Andres Galicia 20298\n",
    "\n",
    "Oscar Méndez 20402\n",
    "\n",
    "# Laboratorio 6"
   ]
  },
  {
   "cell_type": "code",
   "execution_count": 2,
   "id": "fb1dede2",
   "metadata": {},
   "outputs": [],
   "source": [
    "import numpy as np\n",
    "import pandas as pd\n",
    "import matplotlib.pyplot as plt\n",
    "import seaborn as sns"
   ]
  },
  {
   "cell_type": "code",
   "execution_count": 12,
   "id": "81360a75",
   "metadata": {},
   "outputs": [
    {
     "name": "stdout",
     "output_type": "stream",
     "text": [
      "278858\n"
     ]
    },
    {
     "data": {
      "text/html": [
       "<div>\n",
       "<style scoped>\n",
       "    .dataframe tbody tr th:only-of-type {\n",
       "        vertical-align: middle;\n",
       "    }\n",
       "\n",
       "    .dataframe tbody tr th {\n",
       "        vertical-align: top;\n",
       "    }\n",
       "\n",
       "    .dataframe thead th {\n",
       "        text-align: right;\n",
       "    }\n",
       "</style>\n",
       "<table border=\"1\" class=\"dataframe\">\n",
       "  <thead>\n",
       "    <tr style=\"text-align: right;\">\n",
       "      <th></th>\n",
       "      <th>User-ID</th>\n",
       "      <th>Location</th>\n",
       "      <th>Age</th>\n",
       "    </tr>\n",
       "  </thead>\n",
       "  <tbody>\n",
       "    <tr>\n",
       "      <th>0</th>\n",
       "      <td>1</td>\n",
       "      <td>nyc, new york, usa</td>\n",
       "      <td>NaN</td>\n",
       "    </tr>\n",
       "    <tr>\n",
       "      <th>1</th>\n",
       "      <td>2</td>\n",
       "      <td>stockton, california, usa</td>\n",
       "      <td>18.0</td>\n",
       "    </tr>\n",
       "    <tr>\n",
       "      <th>2</th>\n",
       "      <td>3</td>\n",
       "      <td>moscow, yukon territory, russia</td>\n",
       "      <td>NaN</td>\n",
       "    </tr>\n",
       "    <tr>\n",
       "      <th>3</th>\n",
       "      <td>4</td>\n",
       "      <td>porto, v.n.gaia, portugal</td>\n",
       "      <td>17.0</td>\n",
       "    </tr>\n",
       "    <tr>\n",
       "      <th>4</th>\n",
       "      <td>5</td>\n",
       "      <td>farnborough, hants, united kingdom</td>\n",
       "      <td>NaN</td>\n",
       "    </tr>\n",
       "  </tbody>\n",
       "</table>\n",
       "</div>"
      ],
      "text/plain": [
       "   User-ID                            Location   Age\n",
       "0        1                  nyc, new york, usa   NaN\n",
       "1        2           stockton, california, usa  18.0\n",
       "2        3     moscow, yukon territory, russia   NaN\n",
       "3        4           porto, v.n.gaia, portugal  17.0\n",
       "4        5  farnborough, hants, united kingdom   NaN"
      ]
     },
     "execution_count": 12,
     "metadata": {},
     "output_type": "execute_result"
    }
   ],
   "source": [
    "users = pd.read_csv('Users.csv')\n",
    "print(len(users))\n",
    "users.head()"
   ]
  },
  {
   "cell_type": "code",
   "execution_count": 11,
   "id": "ba1e293b",
   "metadata": {},
   "outputs": [
    {
     "name": "stdout",
     "output_type": "stream",
     "text": [
      "271360\n"
     ]
    },
    {
     "name": "stderr",
     "output_type": "stream",
     "text": [
      "C:\\Users\\osjom\\AppData\\Local\\Temp\\ipykernel_23888\\3930219760.py:1: DtypeWarning: Columns (3) have mixed types. Specify dtype option on import or set low_memory=False.\n",
      "  books = pd.read_csv('Books.csv')\n"
     ]
    },
    {
     "data": {
      "text/html": [
       "<div>\n",
       "<style scoped>\n",
       "    .dataframe tbody tr th:only-of-type {\n",
       "        vertical-align: middle;\n",
       "    }\n",
       "\n",
       "    .dataframe tbody tr th {\n",
       "        vertical-align: top;\n",
       "    }\n",
       "\n",
       "    .dataframe thead th {\n",
       "        text-align: right;\n",
       "    }\n",
       "</style>\n",
       "<table border=\"1\" class=\"dataframe\">\n",
       "  <thead>\n",
       "    <tr style=\"text-align: right;\">\n",
       "      <th></th>\n",
       "      <th>ISBN</th>\n",
       "      <th>Book-Title</th>\n",
       "      <th>Book-Author</th>\n",
       "      <th>Year-Of-Publication</th>\n",
       "      <th>Publisher</th>\n",
       "      <th>Image-URL-S</th>\n",
       "      <th>Image-URL-M</th>\n",
       "      <th>Image-URL-L</th>\n",
       "    </tr>\n",
       "  </thead>\n",
       "  <tbody>\n",
       "    <tr>\n",
       "      <th>0</th>\n",
       "      <td>0195153448</td>\n",
       "      <td>Classical Mythology</td>\n",
       "      <td>Mark P. O. Morford</td>\n",
       "      <td>2002</td>\n",
       "      <td>Oxford University Press</td>\n",
       "      <td>http://images.amazon.com/images/P/0195153448.0...</td>\n",
       "      <td>http://images.amazon.com/images/P/0195153448.0...</td>\n",
       "      <td>http://images.amazon.com/images/P/0195153448.0...</td>\n",
       "    </tr>\n",
       "    <tr>\n",
       "      <th>1</th>\n",
       "      <td>0002005018</td>\n",
       "      <td>Clara Callan</td>\n",
       "      <td>Richard Bruce Wright</td>\n",
       "      <td>2001</td>\n",
       "      <td>HarperFlamingo Canada</td>\n",
       "      <td>http://images.amazon.com/images/P/0002005018.0...</td>\n",
       "      <td>http://images.amazon.com/images/P/0002005018.0...</td>\n",
       "      <td>http://images.amazon.com/images/P/0002005018.0...</td>\n",
       "    </tr>\n",
       "    <tr>\n",
       "      <th>2</th>\n",
       "      <td>0060973129</td>\n",
       "      <td>Decision in Normandy</td>\n",
       "      <td>Carlo D'Este</td>\n",
       "      <td>1991</td>\n",
       "      <td>HarperPerennial</td>\n",
       "      <td>http://images.amazon.com/images/P/0060973129.0...</td>\n",
       "      <td>http://images.amazon.com/images/P/0060973129.0...</td>\n",
       "      <td>http://images.amazon.com/images/P/0060973129.0...</td>\n",
       "    </tr>\n",
       "    <tr>\n",
       "      <th>3</th>\n",
       "      <td>0374157065</td>\n",
       "      <td>Flu: The Story of the Great Influenza Pandemic...</td>\n",
       "      <td>Gina Bari Kolata</td>\n",
       "      <td>1999</td>\n",
       "      <td>Farrar Straus Giroux</td>\n",
       "      <td>http://images.amazon.com/images/P/0374157065.0...</td>\n",
       "      <td>http://images.amazon.com/images/P/0374157065.0...</td>\n",
       "      <td>http://images.amazon.com/images/P/0374157065.0...</td>\n",
       "    </tr>\n",
       "    <tr>\n",
       "      <th>4</th>\n",
       "      <td>0393045218</td>\n",
       "      <td>The Mummies of Urumchi</td>\n",
       "      <td>E. J. W. Barber</td>\n",
       "      <td>1999</td>\n",
       "      <td>W. W. Norton &amp;amp; Company</td>\n",
       "      <td>http://images.amazon.com/images/P/0393045218.0...</td>\n",
       "      <td>http://images.amazon.com/images/P/0393045218.0...</td>\n",
       "      <td>http://images.amazon.com/images/P/0393045218.0...</td>\n",
       "    </tr>\n",
       "  </tbody>\n",
       "</table>\n",
       "</div>"
      ],
      "text/plain": [
       "         ISBN                                         Book-Title  \\\n",
       "0  0195153448                                Classical Mythology   \n",
       "1  0002005018                                       Clara Callan   \n",
       "2  0060973129                               Decision in Normandy   \n",
       "3  0374157065  Flu: The Story of the Great Influenza Pandemic...   \n",
       "4  0393045218                             The Mummies of Urumchi   \n",
       "\n",
       "            Book-Author Year-Of-Publication                   Publisher  \\\n",
       "0    Mark P. O. Morford                2002     Oxford University Press   \n",
       "1  Richard Bruce Wright                2001       HarperFlamingo Canada   \n",
       "2          Carlo D'Este                1991             HarperPerennial   \n",
       "3      Gina Bari Kolata                1999        Farrar Straus Giroux   \n",
       "4       E. J. W. Barber                1999  W. W. Norton &amp; Company   \n",
       "\n",
       "                                         Image-URL-S  \\\n",
       "0  http://images.amazon.com/images/P/0195153448.0...   \n",
       "1  http://images.amazon.com/images/P/0002005018.0...   \n",
       "2  http://images.amazon.com/images/P/0060973129.0...   \n",
       "3  http://images.amazon.com/images/P/0374157065.0...   \n",
       "4  http://images.amazon.com/images/P/0393045218.0...   \n",
       "\n",
       "                                         Image-URL-M  \\\n",
       "0  http://images.amazon.com/images/P/0195153448.0...   \n",
       "1  http://images.amazon.com/images/P/0002005018.0...   \n",
       "2  http://images.amazon.com/images/P/0060973129.0...   \n",
       "3  http://images.amazon.com/images/P/0374157065.0...   \n",
       "4  http://images.amazon.com/images/P/0393045218.0...   \n",
       "\n",
       "                                         Image-URL-L  \n",
       "0  http://images.amazon.com/images/P/0195153448.0...  \n",
       "1  http://images.amazon.com/images/P/0002005018.0...  \n",
       "2  http://images.amazon.com/images/P/0060973129.0...  \n",
       "3  http://images.amazon.com/images/P/0374157065.0...  \n",
       "4  http://images.amazon.com/images/P/0393045218.0...  "
      ]
     },
     "execution_count": 11,
     "metadata": {},
     "output_type": "execute_result"
    }
   ],
   "source": [
    "books = pd.read_csv('Books.csv')\n",
    "print(len(books))\n",
    "books.head()"
   ]
  },
  {
   "cell_type": "code",
   "execution_count": 10,
   "id": "ae80fa99",
   "metadata": {},
   "outputs": [
    {
     "name": "stdout",
     "output_type": "stream",
     "text": [
      "1149780\n"
     ]
    },
    {
     "data": {
      "text/html": [
       "<div>\n",
       "<style scoped>\n",
       "    .dataframe tbody tr th:only-of-type {\n",
       "        vertical-align: middle;\n",
       "    }\n",
       "\n",
       "    .dataframe tbody tr th {\n",
       "        vertical-align: top;\n",
       "    }\n",
       "\n",
       "    .dataframe thead th {\n",
       "        text-align: right;\n",
       "    }\n",
       "</style>\n",
       "<table border=\"1\" class=\"dataframe\">\n",
       "  <thead>\n",
       "    <tr style=\"text-align: right;\">\n",
       "      <th></th>\n",
       "      <th>User-ID</th>\n",
       "      <th>ISBN</th>\n",
       "      <th>Book-Rating</th>\n",
       "    </tr>\n",
       "  </thead>\n",
       "  <tbody>\n",
       "    <tr>\n",
       "      <th>0</th>\n",
       "      <td>276725</td>\n",
       "      <td>034545104X</td>\n",
       "      <td>0</td>\n",
       "    </tr>\n",
       "    <tr>\n",
       "      <th>1</th>\n",
       "      <td>276726</td>\n",
       "      <td>0155061224</td>\n",
       "      <td>5</td>\n",
       "    </tr>\n",
       "    <tr>\n",
       "      <th>2</th>\n",
       "      <td>276727</td>\n",
       "      <td>0446520802</td>\n",
       "      <td>0</td>\n",
       "    </tr>\n",
       "    <tr>\n",
       "      <th>3</th>\n",
       "      <td>276729</td>\n",
       "      <td>052165615X</td>\n",
       "      <td>3</td>\n",
       "    </tr>\n",
       "    <tr>\n",
       "      <th>4</th>\n",
       "      <td>276729</td>\n",
       "      <td>0521795028</td>\n",
       "      <td>6</td>\n",
       "    </tr>\n",
       "  </tbody>\n",
       "</table>\n",
       "</div>"
      ],
      "text/plain": [
       "   User-ID        ISBN  Book-Rating\n",
       "0   276725  034545104X            0\n",
       "1   276726  0155061224            5\n",
       "2   276727  0446520802            0\n",
       "3   276729  052165615X            3\n",
       "4   276729  0521795028            6"
      ]
     },
     "execution_count": 10,
     "metadata": {},
     "output_type": "execute_result"
    }
   ],
   "source": [
    "ratings = pd.read_csv('Ratings.csv')\n",
    "print(len(ratings))\n",
    "ratings.head()"
   ]
  },
  {
   "cell_type": "code",
   "execution_count": 117,
   "id": "16861d2c",
   "metadata": {},
   "outputs": [
    {
     "data": {
      "text/plain": [
       "0     716109\n",
       "8     103736\n",
       "10     78610\n",
       "7      76457\n",
       "9      67541\n",
       "5      50974\n",
       "6      36924\n",
       "4       8904\n",
       "3       5996\n",
       "2       2759\n",
       "1       1770\n",
       "Name: Book-Rating, dtype: int64"
      ]
     },
     "execution_count": 117,
     "metadata": {},
     "output_type": "execute_result"
    }
   ],
   "source": [
    "ratings['Book-Rating'].value_counts()"
   ]
  },
  {
   "cell_type": "markdown",
   "id": "86138fdb",
   "metadata": {},
   "source": [
    "## Collaborating Filtering"
   ]
  },
  {
   "cell_type": "code",
   "execution_count": 240,
   "id": "040b2645",
   "metadata": {},
   "outputs": [],
   "source": [
    "import pandas as pd\n",
    "import numpy as np\n",
    "from sklearn.model_selection import train_test_split\n",
    "from sklearn.utils.class_weight import compute_class_weight\n",
    "from sklearn.metrics import classification_report, accuracy_score, confusion_matrix, ConfusionMatrixDisplay\n",
    "from tensorflow.keras.models import Model\n",
    "from tensorflow.keras.layers import Input, Embedding, Flatten, Dot, Dense, dot, Concatenate\n",
    "from tensorflow.keras.optimizers import Adam\n",
    "from tensorflow.keras.regularizers import l2"
   ]
  },
  {
   "cell_type": "code",
   "execution_count": 130,
   "id": "ce8196d8",
   "metadata": {},
   "outputs": [
    {
     "data": {
      "text/plain": [
       "1031136"
      ]
     },
     "execution_count": 130,
     "metadata": {},
     "output_type": "execute_result"
    }
   ],
   "source": [
    "data = pd.merge(pd.merge(ratings, users, on='User-ID'), books, on='ISBN')\n",
    "len(data)"
   ]
  },
  {
   "cell_type": "markdown",
   "id": "13c63cae",
   "metadata": {},
   "source": [
    "### Filtro"
   ]
  },
  {
   "cell_type": "code",
   "execution_count": 332,
   "id": "5b3aeb6f",
   "metadata": {},
   "outputs": [
    {
     "data": {
      "text/plain": [
       "284030"
      ]
     },
     "execution_count": 332,
     "metadata": {},
     "output_type": "execute_result"
    }
   ],
   "source": [
    "books_count = data.groupby(\"ISBN\", as_index=False)[[\"User-ID\"]].count().rename(columns={\"User-ID\": \"book_count\"})\n",
    "users_count = data.groupby(\"User-ID\", as_index=False)[[\"ISBN\"]].count().rename(columns={\"ISBN\": \"user_count\"})\n",
    "filtered_data = data.merge(books_count, on=\"ISBN\").merge(users_count, on=\"User-ID\")\n",
    "filtered_data = filtered_data[(filtered_data.book_count >= 20) & (filtered_data.user_count >= 20)]\n",
    "len(filtered_data)"
   ]
  },
  {
   "cell_type": "code",
   "execution_count": 333,
   "id": "b0ddf8d8",
   "metadata": {},
   "outputs": [
    {
     "data": {
      "text/plain": [
       "0     192894\n",
       "8      22393\n",
       "10     18661\n",
       "9      16482\n",
       "7      14936\n",
       "5       8710\n",
       "6       6736\n",
       "4       1469\n",
       "3        963\n",
       "2        494\n",
       "1        292\n",
       "Name: Book-Rating, dtype: int64"
      ]
     },
     "execution_count": 333,
     "metadata": {},
     "output_type": "execute_result"
    }
   ],
   "source": [
    "filtered_data[\"Book-Rating\"].value_counts()"
   ]
  },
  {
   "cell_type": "markdown",
   "id": "09b70d77",
   "metadata": {},
   "source": [
    "### Procesamiento"
   ]
  },
  {
   "cell_type": "code",
   "execution_count": 334,
   "id": "37736d77",
   "metadata": {},
   "outputs": [],
   "source": [
    "filtered_data['ISBN'] = pd.Categorical(filtered_data['ISBN'])\n",
    "filtered_data['ISBN'] = filtered_data['ISBN'].cat.codes\n",
    "\n",
    "filtered_data['User-ID'] = pd.Categorical(filtered_data['User-ID'])\n",
    "filtered_data['User-ID'] = filtered_data['User-ID'].cat.codes"
   ]
  },
  {
   "cell_type": "code",
   "execution_count": 335,
   "id": "d588910a",
   "metadata": {},
   "outputs": [],
   "source": [
    "rating_map = {\n",
    "    0: 0,\n",
    "    1: 0,\n",
    "    2: 0,\n",
    "    3: 0,\n",
    "    4: 0,\n",
    "    5: 0,\n",
    "    6: 0,\n",
    "    7: 1,\n",
    "    8: 1,\n",
    "    9: 2,\n",
    "    10: 2\n",
    "}\n",
    "\n",
    "filtered_data[\"Book-Rating-NPS\"] = filtered_data[\"Book-Rating\"].map(rating_map)"
   ]
  },
  {
   "cell_type": "code",
   "execution_count": 336,
   "id": "ba85ef02",
   "metadata": {},
   "outputs": [],
   "source": [
    "filtered_data[\"Book-Rating\"] = pd.cut(filtered_data[\"Book-Rating\"], bins=11, labels=list(range(11)))\n",
    "filtered_data[\"Book-Rating-NPS\"] = pd.cut(filtered_data[\"Book-Rating-NPS\"], bins=3, labels=list(range(3)))\n",
    "train, test = train_test_split(filtered_data, test_size=0.2, random_state=42)"
   ]
  },
  {
   "cell_type": "markdown",
   "id": "6f976a35",
   "metadata": {},
   "source": [
    "### Modelo 1\n",
    "\n",
    "Modelo multicategorico de 0 a 10, sin balacear ni utilizar pesos para mitigar el efecto de las clases desbalanceadas."
   ]
  },
  {
   "cell_type": "code",
   "execution_count": 238,
   "id": "883f616d",
   "metadata": {},
   "outputs": [
    {
     "name": "stderr",
     "output_type": "stream",
     "text": [
      "WARNING:absl:`lr` is deprecated in Keras optimizer, please use `learning_rate` or use the legacy optimizer, e.g.,tf.keras.optimizers.legacy.Adam.\n"
     ]
    },
    {
     "name": "stdout",
     "output_type": "stream",
     "text": [
      "3551/3551 [==============================] - 10s 3ms/step - loss: 1.1553 - accuracy: 0.6834 - val_loss: 1.0965 - val_accuracy: 0.6889\n",
      "1776/1776 [==============================] - 3s 2ms/step\n",
      "              precision    recall  f1-score   support\n",
      "\n",
      "           0       0.70      1.00      0.82     38574\n",
      "           1        nan      0.00       nan        63\n",
      "           2        nan      0.00       nan       100\n",
      "           3        nan      0.00       nan       211\n",
      "           4        nan      0.00       nan       291\n",
      "           5       0.69      0.12      0.20      1732\n",
      "           6        nan      0.00       nan      1363\n",
      "           7        nan      0.00       nan      2886\n",
      "           8       0.26      0.07      0.10      4493\n",
      "           9        nan      0.00       nan      3314\n",
      "          10       0.32      0.07      0.11      3779\n",
      "\n",
      "    accuracy                           0.69     56806\n",
      "   macro avg       0.49      0.11      0.31     56806\n",
      "weighted avg       0.63      0.69      0.68     56806\n",
      "\n"
     ]
    }
   ],
   "source": [
    "# Define embedding sizes\n",
    "n_users = len(filtered_data['User-ID'].unique())\n",
    "n_books = len(filtered_data['ISBN'].unique())\n",
    "n_factors = 1\n",
    "\n",
    "# Create the model\n",
    "user_input = Input(shape=(1,))\n",
    "user_embedding = Embedding(n_users, n_factors, embeddings_initializer='he_normal')(user_input)\n",
    "user_vec = Flatten()(user_embedding)\n",
    "\n",
    "book_input = Input(shape=(1,))\n",
    "book_embedding = Embedding(n_books, n_factors, embeddings_initializer='he_normal')(book_input)\n",
    "book_vec = Flatten()(book_embedding)\n",
    "\n",
    "concat = Concatenate()([user_vec, book_vec])\n",
    "\n",
    "x = Dense(50, activation='relu')(concat)\n",
    "\n",
    "# Output layer with softmax activation for multi-categorical classification\n",
    "result = Dense(11, activation='softmax')(x)\n",
    "\n",
    "model_1 = Model(inputs=[user_input, book_input], outputs=result)\n",
    "model_1.compile(optimizer=Adam(lr=0.001), loss='sparse_categorical_crossentropy', metrics=['accuracy'])\n",
    "\n",
    "# Train the model\n",
    "model_1.fit(\n",
    "    [train[\"User-ID\"], train[\"ISBN\"]],\n",
    "    train[\"Book-Rating\"],\n",
    "    batch_size=64,\n",
    "    epochs=1,\n",
    "    validation_data=([test[\"User-ID\"], test[\"ISBN\"]],test[\"Book-Rating\"])\n",
    ")\n",
    "\n",
    "# Make predictions\n",
    "predictions_1 = np.argmax(model_1.predict([test[\"User-ID\"], test[\"ISBN\"]]), axis=1)\n",
    "\n",
    "print(classification_report(test[\"Book-Rating\"], predictions_1, zero_division=np.nan))"
   ]
  },
  {
   "cell_type": "code",
   "execution_count": 250,
   "id": "92fd2612",
   "metadata": {},
   "outputs": [
    {
     "data": {
      "image/png": "[encoded data removed]",
      "text/plain": [
       "<Figure size 640x480 with 2 Axes>"
      ]
     },
     "metadata": {},
     "output_type": "display_data"
    }
   ],
   "source": [
    "ConfusionMatrixDisplay.from_predictions(test[\"Book-Rating\"], predictions_1, cmap='Blues')\n",
    "plt.show()"
   ]
  },
  {
   "cell_type": "markdown",
   "id": "adb169a2",
   "metadata": {},
   "source": [
    "### Modelo 2\n",
    "Modelo multicategorico de 0 a 10, utilizando pesos para mitigar el efecto de las clases desbalanceadas."
   ]
  },
  {
   "cell_type": "code",
   "execution_count": 275,
   "id": "269e62f6",
   "metadata": {},
   "outputs": [
    {
     "data": {
      "text/plain": [
       "{0: 0.566930306517852,\n",
       " 1: 44.71388542963886,\n",
       " 2: 26.634523371365475,\n",
       " 3: 13.906494855092985,\n",
       " 4: 9.288600779751222,\n",
       " 5: 1.9822565494207285,\n",
       " 6: 2.4166351759879077,\n",
       " 7: 1.364385012416614,\n",
       " 8: 1.0765397465928883,\n",
       " 9: 1.2833063066044499,\n",
       " 10: 1.1918415168241008}"
      ]
     },
     "execution_count": 275,
     "metadata": {},
     "output_type": "execute_result"
    }
   ],
   "source": [
    "class_weights_2 = compute_class_weight(class_weight=\"balanced\", classes=np.unique(filtered_data[\"Book-Rating\"]), y=filtered_data[\"Book-Rating\"])\n",
    "class_weights_2 = dict(enumerate((class_weights_2+1)/2))\n",
    "class_weights_2"
   ]
  },
  {
   "cell_type": "code",
   "execution_count": 256,
   "id": "e9c71f5e",
   "metadata": {},
   "outputs": [
    {
     "name": "stderr",
     "output_type": "stream",
     "text": [
      "WARNING:absl:`lr` is deprecated in Keras optimizer, please use `learning_rate` or use the legacy optimizer, e.g.,tf.keras.optimizers.legacy.Adam.\n"
     ]
    },
    {
     "name": "stdout",
     "output_type": "stream",
     "text": [
      "3551/3551 [==============================] - 11s 3ms/step - loss: 1.9494 - accuracy: 0.6767 - val_loss: 1.3354 - val_accuracy: 0.6723\n",
      "1776/1776 [==============================] - 3s 2ms/step\n",
      "              precision    recall  f1-score   support\n",
      "\n",
      "           0       0.71      0.97      0.82     38574\n",
      "           1        nan      0.00       nan        63\n",
      "           2        nan      0.00       nan       100\n",
      "           3        nan      0.00       nan       211\n",
      "           4        nan      0.00       nan       291\n",
      "           5       0.17      0.32      0.23      1732\n",
      "           6        nan      0.00       nan      1363\n",
      "           7        nan      0.00       nan      2886\n",
      "           8       0.11      0.00      0.00      4493\n",
      "           9        nan      0.00       nan      3314\n",
      "          10       0.24      0.08      0.12      3779\n",
      "\n",
      "    accuracy                           0.67     56806\n",
      "   macro avg       0.31      0.12      0.29     56806\n",
      "weighted avg       0.60      0.67      0.67     56806\n",
      "\n"
     ]
    }
   ],
   "source": [
    "# Define embedding sizes\n",
    "n_users = len(filtered_data['User-ID'].unique())\n",
    "n_books = len(filtered_data['ISBN'].unique())\n",
    "n_factors = 1\n",
    "\n",
    "# Create the model\n",
    "user_input = Input(shape=(1,))\n",
    "user_embedding = Embedding(n_users, n_factors, embeddings_initializer='he_normal')(user_input)\n",
    "user_vec = Flatten()(user_embedding)\n",
    "\n",
    "book_input = Input(shape=(1,))\n",
    "book_embedding = Embedding(n_books, n_factors, embeddings_initializer='he_normal')(book_input)\n",
    "book_vec = Flatten()(book_embedding)\n",
    "\n",
    "concat = Concatenate()([user_vec, book_vec])\n",
    "\n",
    "x = Dense(50, activation='relu')(concat)\n",
    "\n",
    "# Output layer with softmax activation for multi-categorical classification\n",
    "result = Dense(11, activation='softmax')(x)\n",
    "\n",
    "model_2 = Model(inputs=[user_input, book_input], outputs=result)\n",
    "model_2.compile(optimizer=Adam(lr=0.001), loss='sparse_categorical_crossentropy', metrics=['accuracy'])\n",
    "\n",
    "# Train the model\n",
    "model_2.fit(\n",
    "    [train[\"User-ID\"], train[\"ISBN\"]],\n",
    "    train[\"Book-Rating\"],\n",
    "    batch_size=64,\n",
    "    epochs=1,\n",
    "    validation_data=([test[\"User-ID\"], test[\"ISBN\"]],test[\"Book-Rating\"]),\n",
    "    class_weight=class_weights\n",
    ")\n",
    "\n",
    "# Make predictions\n",
    "predictions_2 = np.argmax(model_2.predict([test[\"User-ID\"], test[\"ISBN\"]]), axis=1)\n",
    "\n",
    "print(classification_report(test[\"Book-Rating\"], predictions_2, zero_division=np.nan))"
   ]
  },
  {
   "cell_type": "code",
   "execution_count": 257,
   "id": "c1150864",
   "metadata": {},
   "outputs": [
    {
     "data": {
      "image/png": "[encoded data removed]",
      "text/plain": [
       "<Figure size 640x480 with 2 Axes>"
      ]
     },
     "metadata": {},
     "output_type": "display_data"
    }
   ],
   "source": [
    "ConfusionMatrixDisplay.from_predictions(test[\"Book-Rating\"], predictions_2, cmap='Blues')\n",
    "plt.show()"
   ]
  },
  {
   "cell_type": "markdown",
   "id": "12bf0f16",
   "metadata": {},
   "source": [
    "### Modelo 3"
   ]
  },
  {
   "cell_type": "code",
   "execution_count": 337,
   "id": "0b16ca29",
   "metadata": {},
   "outputs": [
    {
     "data": {
      "text/plain": [
       "{0: 0.4475210895672424, 1: 2.5362765320974754, 2: 2.6940405391306}"
      ]
     },
     "execution_count": 337,
     "metadata": {},
     "output_type": "execute_result"
    }
   ],
   "source": [
    "class_weights_3 = compute_class_weight(class_weight=\"balanced\", classes=np.unique(filtered_data[\"Book-Rating-NPS\"]), y=filtered_data[\"Book-Rating-NPS\"])\n",
    "class_weights_3 = dict(enumerate(class_weights_3))\n",
    "class_weights_3"
   ]
  },
  {
   "cell_type": "code",
   "execution_count": 349,
   "id": "8b295bfa",
   "metadata": {
    "scrolled": false
   },
   "outputs": [
    {
     "name": "stdout",
     "output_type": "stream",
     "text": [
      "Epoch 1/5\n",
      "3551/3551 [==============================] - 10s 3ms/step - loss: 1.0376 - accuracy: 0.5163 - val_loss: 0.9671 - val_accuracy: 0.5806\n",
      "Epoch 2/5\n",
      "3551/3551 [==============================] - 8s 2ms/step - loss: 1.0028 - accuracy: 0.5965 - val_loss: 0.9798 - val_accuracy: 0.5487\n",
      "Epoch 3/5\n",
      "3551/3551 [==============================] - 8s 2ms/step - loss: 0.9916 - accuracy: 0.6027 - val_loss: 0.9638 - val_accuracy: 0.5875\n",
      "Epoch 4/5\n",
      "3551/3551 [==============================] - 8s 2ms/step - loss: 0.9842 - accuracy: 0.6162 - val_loss: 0.9746 - val_accuracy: 0.6125\n",
      "Epoch 5/5\n",
      "3551/3551 [==============================] - 8s 2ms/step - loss: 0.9804 - accuracy: 0.6314 - val_loss: 0.9721 - val_accuracy: 0.6154\n",
      "1776/1776 [==============================] - 3s 1ms/step\n",
      "              precision    recall  f1-score   support\n",
      "\n",
      "           0       0.85      0.70      0.76     42334\n",
      "           1       0.23      0.42      0.30      7379\n",
      "           2       0.28      0.33      0.31      7093\n",
      "\n",
      "    accuracy                           0.62     56806\n",
      "   macro avg       0.45      0.48      0.46     56806\n",
      "weighted avg       0.70      0.62      0.65     56806\n",
      "\n"
     ]
    }
   ],
   "source": [
    "# Define embedding sizes\n",
    "n_users = len(filtered_data['User-ID'].unique())\n",
    "n_books = len(filtered_data['ISBN'].unique())\n",
    "n_factors = 1\n",
    "\n",
    "# Create the model\n",
    "user_input = Input(shape=(1,))\n",
    "user_embedding = Embedding(n_users, n_factors, embeddings_initializer='he_normal')(user_input)\n",
    "user_vec = Flatten()(user_embedding)\n",
    "\n",
    "book_input = Input(shape=(1,))\n",
    "book_embedding = Embedding(n_books, n_factors, embeddings_initializer='he_normal')(book_input)\n",
    "book_vec = Flatten()(book_embedding)\n",
    "\n",
    "concat = Concatenate()([user_vec, book_vec])\n",
    "\n",
    "x = Dense(128, activation='relu')(concat)\n",
    "x = Dense(64, activation='relu')(concat)\n",
    "\n",
    "\n",
    "# Output layer with softmax activation for multi-categorical classification\n",
    "result = Dense(3, activation='softmax')(x)\n",
    "\n",
    "model_3 = Model(inputs=[user_input, book_input], outputs=result)\n",
    "model_3.compile(optimizer='rmsprop', loss='sparse_categorical_crossentropy', metrics=['accuracy'])\n",
    "\n",
    "# Train the model\n",
    "history_3 = model_3.fit(\n",
    "    [train[\"User-ID\"], train[\"ISBN\"]],\n",
    "    train[\"Book-Rating-NPS\"],\n",
    "    batch_size=64,\n",
    "    epochs=5,\n",
    "    validation_data=([test[\"User-ID\"], test[\"ISBN\"]],test[\"Book-Rating-NPS\"]),\n",
    "    class_weight=class_weights_3\n",
    ")\n",
    "\n",
    "# Make predictions\n",
    "predictions_3 = np.argmax(model_3.predict([test[\"User-ID\"], test[\"ISBN\"]]), axis=1)\n",
    "\n",
    "print(classification_report(test[\"Book-Rating-NPS\"], predictions_3, zero_division=np.nan))"
   ]
  },
  {
   "cell_type": "code",
   "execution_count": 350,
   "id": "3da5242b",
   "metadata": {},
   "outputs": [
    {
     "data": {
      "image/png": "[encoded data removed]",
      "text/plain": [
       "<Figure size 640x480 with 2 Axes>"
      ]
     },
     "metadata": {},
     "output_type": "display_data"
    }
   ],
   "source": [
    "ConfusionMatrixDisplay.from_predictions(test[\"Book-Rating-NPS\"], predictions_3, cmap='Blues')\n",
    "plt.show()"
   ]
  }
 ],
 "metadata": {
  "kernelspec": {
   "display_name": "Python 3 (ipykernel)",
   "language": "python",
   "name": "python3"
  },
  "language_info": {
   "codemirror_mode": {
    "name": "ipython",
    "version": 3
   },
   "file_extension": ".py",
   "mimetype": "text/x-python",
   "name": "python",
   "nbconvert_exporter": "python",
   "pygments_lexer": "ipython3",
   "version": "3.11.4"
  }
 },
 "nbformat": 4,
 "nbformat_minor": 5
}
