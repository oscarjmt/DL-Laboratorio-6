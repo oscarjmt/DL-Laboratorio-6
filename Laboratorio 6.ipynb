{
 "cells": [
  {
   "cell_type": "markdown",
   "id": "41a6e921",
   "metadata": {},
   "source": [
    "Juan Andres Galicia 20298\n",
    "\n",
    "Oscar Méndez 20402\n",
    "\n",
    "# Laboratorio 6"
   ]
  },
  {
   "cell_type": "code",
   "execution_count": 1,
   "id": "fb1dede2",
   "metadata": {},
   "outputs": [],
   "source": [
    "import numpy as np\n",
    "import pandas as pd\n",
    "import matplotlib.pyplot as plt\n",
    "import seaborn as sns"
   ]
  },
  {
   "cell_type": "code",
   "execution_count": 2,
   "id": "81360a75",
   "metadata": {},
   "outputs": [
    {
     "name": "stdout",
     "output_type": "stream",
     "text": [
      "278858\n"
     ]
    },
    {
     "data": {
      "text/html": [
       "<div>\n",
       "<style scoped>\n",
       "    .dataframe tbody tr th:only-of-type {\n",
       "        vertical-align: middle;\n",
       "    }\n",
       "\n",
       "    .dataframe tbody tr th {\n",
       "        vertical-align: top;\n",
       "    }\n",
       "\n",
       "    .dataframe thead th {\n",
       "        text-align: right;\n",
       "    }\n",
       "</style>\n",
       "<table border=\"1\" class=\"dataframe\">\n",
       "  <thead>\n",
       "    <tr style=\"text-align: right;\">\n",
       "      <th></th>\n",
       "      <th>User-ID</th>\n",
       "      <th>Location</th>\n",
       "      <th>Age</th>\n",
       "    </tr>\n",
       "  </thead>\n",
       "  <tbody>\n",
       "    <tr>\n",
       "      <th>0</th>\n",
       "      <td>1</td>\n",
       "      <td>nyc, new york, usa</td>\n",
       "      <td>NaN</td>\n",
       "    </tr>\n",
       "    <tr>\n",
       "      <th>1</th>\n",
       "      <td>2</td>\n",
       "      <td>stockton, california, usa</td>\n",
       "      <td>18.0</td>\n",
       "    </tr>\n",
       "    <tr>\n",
       "      <th>2</th>\n",
       "      <td>3</td>\n",
       "      <td>moscow, yukon territory, russia</td>\n",
       "      <td>NaN</td>\n",
       "    </tr>\n",
       "    <tr>\n",
       "      <th>3</th>\n",
       "      <td>4</td>\n",
       "      <td>porto, v.n.gaia, portugal</td>\n",
       "      <td>17.0</td>\n",
       "    </tr>\n",
       "    <tr>\n",
       "      <th>4</th>\n",
       "      <td>5</td>\n",
       "      <td>farnborough, hants, united kingdom</td>\n",
       "      <td>NaN</td>\n",
       "    </tr>\n",
       "  </tbody>\n",
       "</table>\n",
       "</div>"
      ],
      "text/plain": [
       "   User-ID                            Location   Age\n",
       "0        1                  nyc, new york, usa   NaN\n",
       "1        2           stockton, california, usa  18.0\n",
       "2        3     moscow, yukon territory, russia   NaN\n",
       "3        4           porto, v.n.gaia, portugal  17.0\n",
       "4        5  farnborough, hants, united kingdom   NaN"
      ]
     },
     "execution_count": 2,
     "metadata": {},
     "output_type": "execute_result"
    }
   ],
   "source": [
    "users = pd.read_csv('Users.csv')\n",
    "print(len(users))\n",
    "users.head()"
   ]
  },
  {
   "cell_type": "code",
   "execution_count": 3,
   "id": "ba1e293b",
   "metadata": {},
   "outputs": [
    {
     "name": "stdout",
     "output_type": "stream",
     "text": [
      "271360\n"
     ]
    },
    {
     "name": "stderr",
     "output_type": "stream",
     "text": [
      "C:\\Users\\juana\\AppData\\Local\\Temp\\ipykernel_17788\\3930219760.py:1: DtypeWarning: Columns (3) have mixed types. Specify dtype option on import or set low_memory=False.\n",
      "  books = pd.read_csv('Books.csv')\n"
     ]
    },
    {
     "data": {
      "text/html": [
       "<div>\n",
       "<style scoped>\n",
       "    .dataframe tbody tr th:only-of-type {\n",
       "        vertical-align: middle;\n",
       "    }\n",
       "\n",
       "    .dataframe tbody tr th {\n",
       "        vertical-align: top;\n",
       "    }\n",
       "\n",
       "    .dataframe thead th {\n",
       "        text-align: right;\n",
       "    }\n",
       "</style>\n",
       "<table border=\"1\" class=\"dataframe\">\n",
       "  <thead>\n",
       "    <tr style=\"text-align: right;\">\n",
       "      <th></th>\n",
       "      <th>ISBN</th>\n",
       "      <th>Book-Title</th>\n",
       "      <th>Book-Author</th>\n",
       "      <th>Year-Of-Publication</th>\n",
       "      <th>Publisher</th>\n",
       "      <th>Image-URL-S</th>\n",
       "      <th>Image-URL-M</th>\n",
       "      <th>Image-URL-L</th>\n",
       "    </tr>\n",
       "  </thead>\n",
       "  <tbody>\n",
       "    <tr>\n",
       "      <th>0</th>\n",
       "      <td>0195153448</td>\n",
       "      <td>Classical Mythology</td>\n",
       "      <td>Mark P. O. Morford</td>\n",
       "      <td>2002</td>\n",
       "      <td>Oxford University Press</td>\n",
       "      <td>http://images.amazon.com/images/P/0195153448.0...</td>\n",
       "      <td>http://images.amazon.com/images/P/0195153448.0...</td>\n",
       "      <td>http://images.amazon.com/images/P/0195153448.0...</td>\n",
       "    </tr>\n",
       "    <tr>\n",
       "      <th>1</th>\n",
       "      <td>0002005018</td>\n",
       "      <td>Clara Callan</td>\n",
       "      <td>Richard Bruce Wright</td>\n",
       "      <td>2001</td>\n",
       "      <td>HarperFlamingo Canada</td>\n",
       "      <td>http://images.amazon.com/images/P/0002005018.0...</td>\n",
       "      <td>http://images.amazon.com/images/P/0002005018.0...</td>\n",
       "      <td>http://images.amazon.com/images/P/0002005018.0...</td>\n",
       "    </tr>\n",
       "    <tr>\n",
       "      <th>2</th>\n",
       "      <td>0060973129</td>\n",
       "      <td>Decision in Normandy</td>\n",
       "      <td>Carlo D'Este</td>\n",
       "      <td>1991</td>\n",
       "      <td>HarperPerennial</td>\n",
       "      <td>http://images.amazon.com/images/P/0060973129.0...</td>\n",
       "      <td>http://images.amazon.com/images/P/0060973129.0...</td>\n",
       "      <td>http://images.amazon.com/images/P/0060973129.0...</td>\n",
       "    </tr>\n",
       "    <tr>\n",
       "      <th>3</th>\n",
       "      <td>0374157065</td>\n",
       "      <td>Flu: The Story of the Great Influenza Pandemic...</td>\n",
       "      <td>Gina Bari Kolata</td>\n",
       "      <td>1999</td>\n",
       "      <td>Farrar Straus Giroux</td>\n",
       "      <td>http://images.amazon.com/images/P/0374157065.0...</td>\n",
       "      <td>http://images.amazon.com/images/P/0374157065.0...</td>\n",
       "      <td>http://images.amazon.com/images/P/0374157065.0...</td>\n",
       "    </tr>\n",
       "    <tr>\n",
       "      <th>4</th>\n",
       "      <td>0393045218</td>\n",
       "      <td>The Mummies of Urumchi</td>\n",
       "      <td>E. J. W. Barber</td>\n",
       "      <td>1999</td>\n",
       "      <td>W. W. Norton &amp;amp; Company</td>\n",
       "      <td>http://images.amazon.com/images/P/0393045218.0...</td>\n",
       "      <td>http://images.amazon.com/images/P/0393045218.0...</td>\n",
       "      <td>http://images.amazon.com/images/P/0393045218.0...</td>\n",
       "    </tr>\n",
       "  </tbody>\n",
       "</table>\n",
       "</div>"
      ],
      "text/plain": [
       "         ISBN                                         Book-Title  \\\n",
       "0  0195153448                                Classical Mythology   \n",
       "1  0002005018                                       Clara Callan   \n",
       "2  0060973129                               Decision in Normandy   \n",
       "3  0374157065  Flu: The Story of the Great Influenza Pandemic...   \n",
       "4  0393045218                             The Mummies of Urumchi   \n",
       "\n",
       "            Book-Author Year-Of-Publication                   Publisher  \\\n",
       "0    Mark P. O. Morford                2002     Oxford University Press   \n",
       "1  Richard Bruce Wright                2001       HarperFlamingo Canada   \n",
       "2          Carlo D'Este                1991             HarperPerennial   \n",
       "3      Gina Bari Kolata                1999        Farrar Straus Giroux   \n",
       "4       E. J. W. Barber                1999  W. W. Norton &amp; Company   \n",
       "\n",
       "                                         Image-URL-S  \\\n",
       "0  http://images.amazon.com/images/P/0195153448.0...   \n",
       "1  http://images.amazon.com/images/P/0002005018.0...   \n",
       "2  http://images.amazon.com/images/P/0060973129.0...   \n",
       "3  http://images.amazon.com/images/P/0374157065.0...   \n",
       "4  http://images.amazon.com/images/P/0393045218.0...   \n",
       "\n",
       "                                         Image-URL-M  \\\n",
       "0  http://images.amazon.com/images/P/0195153448.0...   \n",
       "1  http://images.amazon.com/images/P/0002005018.0...   \n",
       "2  http://images.amazon.com/images/P/0060973129.0...   \n",
       "3  http://images.amazon.com/images/P/0374157065.0...   \n",
       "4  http://images.amazon.com/images/P/0393045218.0...   \n",
       "\n",
       "                                         Image-URL-L  \n",
       "0  http://images.amazon.com/images/P/0195153448.0...  \n",
       "1  http://images.amazon.com/images/P/0002005018.0...  \n",
       "2  http://images.amazon.com/images/P/0060973129.0...  \n",
       "3  http://images.amazon.com/images/P/0374157065.0...  \n",
       "4  http://images.amazon.com/images/P/0393045218.0...  "
      ]
     },
     "execution_count": 3,
     "metadata": {},
     "output_type": "execute_result"
    }
   ],
   "source": [
    "books = pd.read_csv('Books.csv')\n",
    "print(len(books))\n",
    "books.head()"
   ]
  },
  {
   "cell_type": "code",
   "execution_count": 4,
   "id": "ae80fa99",
   "metadata": {},
   "outputs": [
    {
     "name": "stdout",
     "output_type": "stream",
     "text": [
      "1149780\n"
     ]
    },
    {
     "data": {
      "text/html": [
       "<div>\n",
       "<style scoped>\n",
       "    .dataframe tbody tr th:only-of-type {\n",
       "        vertical-align: middle;\n",
       "    }\n",
       "\n",
       "    .dataframe tbody tr th {\n",
       "        vertical-align: top;\n",
       "    }\n",
       "\n",
       "    .dataframe thead th {\n",
       "        text-align: right;\n",
       "    }\n",
       "</style>\n",
       "<table border=\"1\" class=\"dataframe\">\n",
       "  <thead>\n",
       "    <tr style=\"text-align: right;\">\n",
       "      <th></th>\n",
       "      <th>User-ID</th>\n",
       "      <th>ISBN</th>\n",
       "      <th>Book-Rating</th>\n",
       "    </tr>\n",
       "  </thead>\n",
       "  <tbody>\n",
       "    <tr>\n",
       "      <th>0</th>\n",
       "      <td>276725</td>\n",
       "      <td>034545104X</td>\n",
       "      <td>0</td>\n",
       "    </tr>\n",
       "    <tr>\n",
       "      <th>1</th>\n",
       "      <td>276726</td>\n",
       "      <td>0155061224</td>\n",
       "      <td>5</td>\n",
       "    </tr>\n",
       "    <tr>\n",
       "      <th>2</th>\n",
       "      <td>276727</td>\n",
       "      <td>0446520802</td>\n",
       "      <td>0</td>\n",
       "    </tr>\n",
       "    <tr>\n",
       "      <th>3</th>\n",
       "      <td>276729</td>\n",
       "      <td>052165615X</td>\n",
       "      <td>3</td>\n",
       "    </tr>\n",
       "    <tr>\n",
       "      <th>4</th>\n",
       "      <td>276729</td>\n",
       "      <td>0521795028</td>\n",
       "      <td>6</td>\n",
       "    </tr>\n",
       "  </tbody>\n",
       "</table>\n",
       "</div>"
      ],
      "text/plain": [
       "   User-ID        ISBN  Book-Rating\n",
       "0   276725  034545104X            0\n",
       "1   276726  0155061224            5\n",
       "2   276727  0446520802            0\n",
       "3   276729  052165615X            3\n",
       "4   276729  0521795028            6"
      ]
     },
     "execution_count": 4,
     "metadata": {},
     "output_type": "execute_result"
    }
   ],
   "source": [
    "ratings = pd.read_csv('Ratings.csv')\n",
    "print(len(ratings))\n",
    "ratings.head()"
   ]
  },
  {
   "cell_type": "code",
   "execution_count": 5,
   "id": "16861d2c",
   "metadata": {},
   "outputs": [
    {
     "data": {
      "text/plain": [
       "Book-Rating\n",
       "0     716109\n",
       "8     103736\n",
       "10     78610\n",
       "7      76457\n",
       "9      67541\n",
       "5      50974\n",
       "6      36924\n",
       "4       8904\n",
       "3       5996\n",
       "2       2759\n",
       "1       1770\n",
       "Name: count, dtype: int64"
      ]
     },
     "execution_count": 5,
     "metadata": {},
     "output_type": "execute_result"
    }
   ],
   "source": [
    "ratings['Book-Rating'].value_counts()"
   ]
  },
  {
   "cell_type": "markdown",
   "id": "5c90860e",
   "metadata": {},
   "source": [
    "Podemos ver que cuando a la gente no le gusta algo lo más probable es que le ponga 0, pdoemos ver que del 1 al 4 los datos son exageradamente menores a comparacion del rating 0. Esto hay que tomarlo en cuanta para el modelo, ya que el desbalance es muy evidente."
   ]
  },
  {
   "cell_type": "markdown",
   "id": "86138fdb",
   "metadata": {},
   "source": [
    "## Collaborating Filtering"
   ]
  },
  {
   "cell_type": "code",
   "execution_count": 6,
   "id": "040b2645",
   "metadata": {},
   "outputs": [],
   "source": [
    "import pandas as pd\n",
    "import numpy as np\n",
    "from sklearn.model_selection import train_test_split\n",
    "from sklearn.utils.class_weight import compute_class_weight\n",
    "from sklearn.metrics import classification_report, accuracy_score, confusion_matrix, ConfusionMatrixDisplay\n",
    "from tensorflow.keras.models import Model\n",
    "from tensorflow.keras.layers import Input, Embedding, Flatten, Dot, Dense, dot, Concatenate\n",
    "from tensorflow.keras.optimizers import Adam\n",
    "from tensorflow.keras.regularizers import l2\n",
    "from tensorflow.keras.utils import plot_model"
   ]
  },
  {
   "cell_type": "code",
   "execution_count": 7,
   "id": "ce8196d8",
   "metadata": {},
   "outputs": [
    {
     "data": {
      "text/plain": [
       "1031136"
      ]
     },
     "execution_count": 7,
     "metadata": {},
     "output_type": "execute_result"
    }
   ],
   "source": [
    "data = pd.merge(pd.merge(ratings, users, on='User-ID'), books, on='ISBN')\n",
    "len(data)"
   ]
  },
  {
   "cell_type": "markdown",
   "id": "13c63cae",
   "metadata": {},
   "source": [
    "### Filtro"
   ]
  },
  {
   "cell_type": "markdown",
   "id": "ca27f1aa",
   "metadata": {},
   "source": [
    "Para el sistema colaborativo solo incuimos a los libros que tienen al menos 20 ratings y a los usurios qu han rateado al menos 20 libros. Esto debido a que los algoritmos tienden a funcionar de esta forma, al principio las recomendaciones son solo tendencias locales, cuando el usuario ya va generando la data entonces ya se le aplica el algoritmo personalizado. Tambien es para reducir la cantidad de datos."
   ]
  },
  {
   "cell_type": "code",
   "execution_count": 8,
   "id": "5b3aeb6f",
   "metadata": {},
   "outputs": [
    {
     "data": {
      "text/plain": [
       "284030"
      ]
     },
     "execution_count": 8,
     "metadata": {},
     "output_type": "execute_result"
    }
   ],
   "source": [
    "books_count = data.groupby(\"ISBN\", as_index=False)[[\"User-ID\"]].count().rename(columns={\"User-ID\": \"book_count\"})\n",
    "users_count = data.groupby(\"User-ID\", as_index=False)[[\"ISBN\"]].count().rename(columns={\"ISBN\": \"user_count\"})\n",
    "filtered_data = data.merge(books_count, on=\"ISBN\").merge(users_count, on=\"User-ID\")\n",
    "filtered_data = filtered_data[(filtered_data.book_count >= 20) & (filtered_data.user_count >= 20)]\n",
    "len(filtered_data)"
   ]
  },
  {
   "cell_type": "code",
   "execution_count": 9,
   "id": "b0ddf8d8",
   "metadata": {},
   "outputs": [
    {
     "data": {
      "text/plain": [
       "Book-Rating\n",
       "0     192894\n",
       "8      22393\n",
       "10     18661\n",
       "9      16482\n",
       "7      14936\n",
       "5       8710\n",
       "6       6736\n",
       "4       1469\n",
       "3        963\n",
       "2        494\n",
       "1        292\n",
       "Name: count, dtype: int64"
      ]
     },
     "execution_count": 9,
     "metadata": {},
     "output_type": "execute_result"
    }
   ],
   "source": [
    "filtered_data[\"Book-Rating\"].value_counts()"
   ]
  },
  {
   "cell_type": "markdown",
   "id": "09b70d77",
   "metadata": {},
   "source": [
    "### Procesamiento"
   ]
  },
  {
   "cell_type": "code",
   "execution_count": 10,
   "id": "37736d77",
   "metadata": {},
   "outputs": [],
   "source": [
    "filtered_data['ISBN'] = pd.Categorical(filtered_data['ISBN'])\n",
    "filtered_data['ISBN'] = filtered_data['ISBN'].cat.codes\n",
    "\n",
    "filtered_data['User-ID'] = pd.Categorical(filtered_data['User-ID'])\n",
    "filtered_data['User-ID'] = filtered_data['User-ID'].cat.codes"
   ]
  },
  {
   "cell_type": "code",
   "execution_count": 11,
   "id": "d588910a",
   "metadata": {},
   "outputs": [],
   "source": [
    "rating_map = {\n",
    "    0: 0,\n",
    "    1: 0,\n",
    "    2: 0,\n",
    "    3: 0,\n",
    "    4: 0,\n",
    "    5: 0,\n",
    "    6: 0,\n",
    "    7: 1,\n",
    "    8: 1,\n",
    "    9: 2,\n",
    "    10: 2\n",
    "}\n",
    "\n",
    "filtered_data[\"Book-Rating-NPS\"] = filtered_data[\"Book-Rating\"].map(rating_map)"
   ]
  },
  {
   "cell_type": "code",
   "execution_count": 12,
   "id": "ba85ef02",
   "metadata": {},
   "outputs": [],
   "source": [
    "filtered_data[\"Book-Rating\"] = pd.cut(filtered_data[\"Book-Rating\"], bins=11, labels=list(range(11)))\n",
    "filtered_data[\"Book-Rating-NPS\"] = pd.cut(filtered_data[\"Book-Rating-NPS\"], bins=3, labels=list(range(3)))\n",
    "train, test = train_test_split(filtered_data, test_size=0.2, random_state=42)"
   ]
  },
  {
   "cell_type": "markdown",
   "id": "6f976a35",
   "metadata": {},
   "source": [
    "### Modelo 1\n",
    "\n",
    "Modelo multicategorico de 0 a 10, sin balacear ni utilizar pesos para mitigar el efecto de las clases desbalanceadas."
   ]
  },
  {
   "cell_type": "code",
   "execution_count": 13,
   "id": "883f616d",
   "metadata": {},
   "outputs": [
    {
     "name": "stderr",
     "output_type": "stream",
     "text": [
      "WARNING:absl:`lr` is deprecated in Keras optimizer, please use `learning_rate` or use the legacy optimizer, e.g.,tf.keras.optimizers.legacy.Adam.\n"
     ]
    },
    {
     "name": "stdout",
     "output_type": "stream",
     "text": [
      "3551/3551 [==============================] - 6s 1ms/step - loss: 1.1537 - accuracy: 0.6831 - val_loss: 1.0977 - val_accuracy: 0.6871\n",
      "1776/1776 [==============================] - 2s 914us/step\n",
      "              precision    recall  f1-score   support\n",
      "\n",
      "           0       0.70      0.99      0.82     38574\n",
      "           1        nan      0.00       nan        63\n",
      "           2        nan      0.00       nan       100\n",
      "           3        nan      0.00       nan       211\n",
      "           4        nan      0.00       nan       291\n",
      "           5       0.38      0.13      0.20      1732\n",
      "           6        nan      0.00       nan      1363\n",
      "           7        nan      0.00       nan      2886\n",
      "           8       0.25      0.01      0.01      4493\n",
      "           9        nan      0.00       nan      3314\n",
      "          10       0.30      0.11      0.16      3779\n",
      "\n",
      "    accuracy                           0.69     56806\n",
      "   macro avg       0.41      0.11      0.30     56806\n",
      "weighted avg       0.62      0.69      0.67     56806\n",
      "\n"
     ]
    }
   ],
   "source": [
    "# Define embedding sizes\n",
    "n_users = len(filtered_data['User-ID'].unique())\n",
    "n_books = len(filtered_data['ISBN'].unique())\n",
    "n_factors = 1\n",
    "\n",
    "# Create the model\n",
    "user_input = Input(shape=(1,))\n",
    "user_embedding = Embedding(n_users, n_factors, embeddings_initializer='he_normal')(user_input)\n",
    "user_vec = Flatten()(user_embedding)\n",
    "\n",
    "book_input = Input(shape=(1,))\n",
    "book_embedding = Embedding(n_books, n_factors, embeddings_initializer='he_normal')(book_input)\n",
    "book_vec = Flatten()(book_embedding)\n",
    "\n",
    "concat = Concatenate()([user_vec, book_vec])\n",
    "\n",
    "x = Dense(50, activation='relu')(concat)\n",
    "\n",
    "# Output layer with softmax activation for multi-categorical classification\n",
    "result = Dense(11, activation='softmax')(x)\n",
    "\n",
    "model_1 = Model(inputs=[user_input, book_input], outputs=result)\n",
    "model_1.compile(optimizer=Adam(lr=0.001), loss='sparse_categorical_crossentropy', metrics=['accuracy'])\n",
    "\n",
    "# Train the model\n",
    "model_1.fit(\n",
    "    [train[\"User-ID\"], train[\"ISBN\"]],\n",
    "    train[\"Book-Rating\"],\n",
    "    batch_size=64,\n",
    "    epochs=1,\n",
    "    validation_data=([test[\"User-ID\"], test[\"ISBN\"]],test[\"Book-Rating\"])\n",
    ")\n",
    "\n",
    "# Make predictions\n",
    "predictions_1 = np.argmax(model_1.predict([test[\"User-ID\"], test[\"ISBN\"]]), axis=1)\n",
    "\n",
    "print(classification_report(test[\"Book-Rating\"], predictions_1, zero_division=np.nan))"
   ]
  },
  {
   "cell_type": "code",
   "execution_count": 14,
   "id": "92fd2612",
   "metadata": {},
   "outputs": [
    {
     "data": {
      "image/png": "[encoded data removed]",
      "text/plain": [
       "<Figure size 640x480 with 2 Axes>"
      ]
     },
     "metadata": {},
     "output_type": "display_data"
    }
   ],
   "source": [
    "ConfusionMatrixDisplay.from_predictions(test[\"Book-Rating\"], predictions_1, cmap='Blues')\n",
    "plt.show()"
   ]
  },
  {
   "cell_type": "markdown",
   "id": "6bdd8ec5",
   "metadata": {},
   "source": [
    "No le fue muy bien, aunque si logra distinguir cuando al usuario no le gusta algo para nada y le pone 0 de rating."
   ]
  },
  {
   "cell_type": "markdown",
   "id": "adb169a2",
   "metadata": {},
   "source": [
    "### Modelo 2\n",
    "Modelo multicategorico de 0 a 10, utilizando pesos para mitigar el efecto de las clases desbalanceadas."
   ]
  },
  {
   "cell_type": "code",
   "execution_count": 15,
   "id": "269e62f6",
   "metadata": {},
   "outputs": [
    {
     "data": {
      "text/plain": [
       "{0: 0.566930306517852,\n",
       " 1: 44.71388542963886,\n",
       " 2: 26.634523371365475,\n",
       " 3: 13.906494855092985,\n",
       " 4: 9.288600779751222,\n",
       " 5: 1.9822565494207285,\n",
       " 6: 2.4166351759879077,\n",
       " 7: 1.364385012416614,\n",
       " 8: 1.0765397465928883,\n",
       " 9: 1.2833063066044499,\n",
       " 10: 1.1918415168241008}"
      ]
     },
     "execution_count": 15,
     "metadata": {},
     "output_type": "execute_result"
    }
   ],
   "source": [
    "class_weights_2 = compute_class_weight(class_weight=\"balanced\", classes=np.unique(filtered_data[\"Book-Rating\"]), y=filtered_data[\"Book-Rating\"])\n",
    "class_weights_2 = dict(enumerate((class_weights_2+1)/2))\n",
    "class_weights_2"
   ]
  },
  {
   "cell_type": "code",
   "execution_count": 17,
   "id": "e9c71f5e",
   "metadata": {},
   "outputs": [
    {
     "name": "stderr",
     "output_type": "stream",
     "text": [
      "WARNING:absl:`lr` is deprecated in Keras optimizer, please use `learning_rate` or use the legacy optimizer, e.g.,tf.keras.optimizers.legacy.Adam.\n"
     ]
    },
    {
     "name": "stdout",
     "output_type": "stream",
     "text": [
      "3551/3551 [==============================] - 7s 2ms/step - loss: 1.9503 - accuracy: 0.6766 - val_loss: 1.2807 - val_accuracy: 0.6781\n",
      "1776/1776 [==============================] - 2s 934us/step\n",
      "              precision    recall  f1-score   support\n",
      "\n",
      "           0       0.70      0.98      0.82     38574\n",
      "           1        nan      0.00       nan        63\n",
      "           2        nan      0.00       nan       100\n",
      "           3        nan      0.00       nan       211\n",
      "           4        nan      0.00       nan       291\n",
      "           5       0.23      0.29      0.26      1732\n",
      "           6        nan      0.00       nan      1363\n",
      "           7        nan      0.00       nan      2886\n",
      "           8       0.00      0.00       nan      4493\n",
      "           9        nan      0.00       nan      3314\n",
      "          10       0.22      0.04      0.07      3779\n",
      "\n",
      "    accuracy                           0.68     56806\n",
      "   macro avg       0.29      0.12      0.38     56806\n",
      "weighted avg       0.58      0.68      0.73     56806\n",
      "\n"
     ]
    }
   ],
   "source": [
    "# Define embedding sizes\n",
    "n_users = len(filtered_data['User-ID'].unique())\n",
    "n_books = len(filtered_data['ISBN'].unique())\n",
    "n_factors = 1\n",
    "\n",
    "# Create the model\n",
    "user_input = Input(shape=(1,))\n",
    "user_embedding = Embedding(n_users, n_factors, embeddings_initializer='he_normal')(user_input)\n",
    "user_vec = Flatten()(user_embedding)\n",
    "\n",
    "book_input = Input(shape=(1,))\n",
    "book_embedding = Embedding(n_books, n_factors, embeddings_initializer='he_normal')(book_input)\n",
    "book_vec = Flatten()(book_embedding)\n",
    "\n",
    "concat = Concatenate()([user_vec, book_vec])\n",
    "\n",
    "x = Dense(50, activation='relu')(concat)\n",
    "\n",
    "# Output layer with softmax activation for multi-categorical classification\n",
    "result = Dense(11, activation='softmax')(x)\n",
    "\n",
    "model_2 = Model(inputs=[user_input, book_input], outputs=result)\n",
    "model_2.compile(optimizer=Adam(lr=0.001), loss='sparse_categorical_crossentropy', metrics=['accuracy'])\n",
    "\n",
    "# Train the model\n",
    "model_2.fit(\n",
    "    [train[\"User-ID\"], train[\"ISBN\"]],\n",
    "    train[\"Book-Rating\"],\n",
    "    batch_size=64,\n",
    "    epochs=1,\n",
    "    validation_data=([test[\"User-ID\"], test[\"ISBN\"]],test[\"Book-Rating\"]),\n",
    "    class_weight=class_weights_2\n",
    ")\n",
    "\n",
    "# Make predictions\n",
    "predictions_2 = np.argmax(model_2.predict([test[\"User-ID\"], test[\"ISBN\"]]), axis=1)\n",
    "\n",
    "print(classification_report(test[\"Book-Rating\"], predictions_2, zero_division=np.nan))"
   ]
  },
  {
   "cell_type": "code",
   "execution_count": 18,
   "id": "c1150864",
   "metadata": {},
   "outputs": [
    {
     "data": {
      "image/png": "[encoded data removed]",
      "text/plain": [
       "<Figure size 640x480 with 2 Axes>"
      ]
     },
     "metadata": {},
     "output_type": "display_data"
    }
   ],
   "source": [
    "ConfusionMatrixDisplay.from_predictions(test[\"Book-Rating\"], predictions_2, cmap='Blues')\n",
    "plt.show()"
   ]
  },
  {
   "cell_type": "markdown",
   "id": "78628a03",
   "metadata": {},
   "source": [
    "Tampoco funciono muy bien, el rating 0 si lo distingue bien todavia, pero lo demas esta muy mal categorizado."
   ]
  },
  {
   "cell_type": "markdown",
   "id": "12bf0f16",
   "metadata": {},
   "source": [
    "### Modelo 3"
   ]
  },
  {
   "cell_type": "code",
   "execution_count": 19,
   "id": "0b16ca29",
   "metadata": {},
   "outputs": [
    {
     "data": {
      "text/plain": [
       "{0: 0.4475210895672424, 1: 2.5362765320974754, 2: 2.6940405391306}"
      ]
     },
     "execution_count": 19,
     "metadata": {},
     "output_type": "execute_result"
    }
   ],
   "source": [
    "class_weights_3 = compute_class_weight(class_weight=\"balanced\", classes=np.unique(filtered_data[\"Book-Rating-NPS\"]), y=filtered_data[\"Book-Rating-NPS\"])\n",
    "class_weights_3 = dict(enumerate(class_weights_3))\n",
    "class_weights_3"
   ]
  },
  {
   "cell_type": "code",
   "execution_count": 20,
   "id": "8b295bfa",
   "metadata": {
    "scrolled": false
   },
   "outputs": [
    {
     "name": "stdout",
     "output_type": "stream",
     "text": [
      "Epoch 1/5\n",
      "3551/3551 [==============================] - 6s 2ms/step - loss: 1.0344 - accuracy: 0.5237 - val_loss: 0.9797 - val_accuracy: 0.5631\n",
      "Epoch 2/5\n",
      "3551/3551 [==============================] - 5s 2ms/step - loss: 0.9999 - accuracy: 0.5844 - val_loss: 0.9518 - val_accuracy: 0.5888\n",
      "Epoch 3/5\n",
      "3551/3551 [==============================] - 6s 2ms/step - loss: 0.9887 - accuracy: 0.5928 - val_loss: 0.9500 - val_accuracy: 0.6016\n",
      "Epoch 4/5\n",
      "3551/3551 [==============================] - 6s 2ms/step - loss: 0.9826 - accuracy: 0.6030 - val_loss: 0.9621 - val_accuracy: 0.6097\n",
      "Epoch 5/5\n",
      "3551/3551 [==============================] - 6s 2ms/step - loss: 0.9799 - accuracy: 0.6134 - val_loss: 0.9647 - val_accuracy: 0.5951\n",
      "1776/1776 [==============================] - 2s 909us/step\n",
      "              precision    recall  f1-score   support\n",
      "\n",
      "           0       0.85      0.66      0.74     42334\n",
      "           1       0.22      0.46      0.29      7379\n",
      "           2       0.29      0.33      0.31      7093\n",
      "\n",
      "    accuracy                           0.60     56806\n",
      "   macro avg       0.45      0.49      0.45     56806\n",
      "weighted avg       0.70      0.60      0.63     56806\n",
      "\n"
     ]
    }
   ],
   "source": [
    "# Define embedding sizes\n",
    "n_users = len(filtered_data['User-ID'].unique())\n",
    "n_books = len(filtered_data['ISBN'].unique())\n",
    "n_factors = 1\n",
    "\n",
    "# Create the model\n",
    "user_input = Input(shape=(1,))\n",
    "user_embedding = Embedding(n_users, n_factors, embeddings_initializer='he_normal')(user_input)\n",
    "user_vec = Flatten()(user_embedding)\n",
    "\n",
    "book_input = Input(shape=(1,))\n",
    "book_embedding = Embedding(n_books, n_factors, embeddings_initializer='he_normal')(book_input)\n",
    "book_vec = Flatten()(book_embedding)\n",
    "\n",
    "concat = Concatenate()([user_vec, book_vec])\n",
    "\n",
    "x = Dense(128, activation='relu')(concat)\n",
    "x = Dense(64, activation='relu')(concat)\n",
    "\n",
    "\n",
    "# Output layer with softmax activation for multi-categorical classification\n",
    "result = Dense(3, activation='softmax')(x)\n",
    "\n",
    "model_3 = Model(inputs=[user_input, book_input], outputs=result)\n",
    "model_3.compile(optimizer='rmsprop', loss='sparse_categorical_crossentropy', metrics=['accuracy'])\n",
    "\n",
    "# Train the model\n",
    "history_3 = model_3.fit(\n",
    "    [train[\"User-ID\"], train[\"ISBN\"]],\n",
    "    train[\"Book-Rating-NPS\"],\n",
    "    batch_size=64,\n",
    "    epochs=5,\n",
    "    validation_data=([test[\"User-ID\"], test[\"ISBN\"]],test[\"Book-Rating-NPS\"]),\n",
    "    class_weight=class_weights_3\n",
    ")\n",
    "\n",
    "# Make predictions\n",
    "predictions_3 = np.argmax(model_3.predict([test[\"User-ID\"], test[\"ISBN\"]]), axis=1)\n",
    "\n",
    "print(classification_report(test[\"Book-Rating-NPS\"], predictions_3, zero_division=np.nan))"
   ]
  },
  {
   "cell_type": "code",
   "execution_count": 21,
   "id": "3da5242b",
   "metadata": {},
   "outputs": [
    {
     "data": {
      "image/png": "[encoded data removed]",
      "text/plain": [
       "<Figure size 640x480 with 2 Axes>"
      ]
     },
     "metadata": {},
     "output_type": "display_data"
    }
   ],
   "source": [
    "ConfusionMatrixDisplay.from_predictions(test[\"Book-Rating-NPS\"], predictions_3, cmap='Blues')\n",
    "plt.show()"
   ]
  },
  {
   "cell_type": "markdown",
   "id": "91546534",
   "metadata": {},
   "source": [
    "Tampoco funciona muy bien de esta forma."
   ]
  },
  {
   "cell_type": "markdown",
   "id": "796aabc7",
   "metadata": {},
   "source": [
    "## Content-Based Recommendation System"
   ]
  },
  {
   "cell_type": "code",
   "execution_count": 22,
   "id": "67a4bc11",
   "metadata": {},
   "outputs": [],
   "source": [
    "import pandas as pd\n",
    "import numpy as np"
   ]
  },
  {
   "cell_type": "code",
   "execution_count": 23,
   "id": "e0d4c40c",
   "metadata": {},
   "outputs": [
    {
     "name": "stderr",
     "output_type": "stream",
     "text": [
      "C:\\Users\\juana\\AppData\\Local\\Temp\\ipykernel_17788\\826114351.py:3: DtypeWarning: Columns (3) have mixed types. Specify dtype option on import or set low_memory=False.\n",
      "  books = pd.read_csv(\"Books.csv\")\n"
     ]
    }
   ],
   "source": [
    "users = pd.read_csv(\"Users.csv\")\n",
    "ratings = pd.read_csv(\"Ratings.csv\")\n",
    "books = pd.read_csv(\"Books.csv\")"
   ]
  },
  {
   "cell_type": "code",
   "execution_count": 24,
   "id": "02674f04",
   "metadata": {},
   "outputs": [
    {
     "data": {
      "text/plain": [
       "1031136"
      ]
     },
     "execution_count": 24,
     "metadata": {},
     "output_type": "execute_result"
    }
   ],
   "source": [
    "df = pd.merge(pd.merge(ratings, users, on='User-ID'), books, on='ISBN')\n",
    "len(df)"
   ]
  },
  {
   "cell_type": "code",
   "execution_count": 25,
   "id": "b72d8fa8",
   "metadata": {},
   "outputs": [
    {
     "data": {
      "text/html": [
       "<div>\n",
       "<style scoped>\n",
       "    .dataframe tbody tr th:only-of-type {\n",
       "        vertical-align: middle;\n",
       "    }\n",
       "\n",
       "    .dataframe tbody tr th {\n",
       "        vertical-align: top;\n",
       "    }\n",
       "\n",
       "    .dataframe thead th {\n",
       "        text-align: right;\n",
       "    }\n",
       "</style>\n",
       "<table border=\"1\" class=\"dataframe\">\n",
       "  <thead>\n",
       "    <tr style=\"text-align: right;\">\n",
       "      <th></th>\n",
       "      <th>User-ID</th>\n",
       "      <th>ISBN</th>\n",
       "      <th>Book-Rating</th>\n",
       "      <th>Location</th>\n",
       "      <th>Age</th>\n",
       "      <th>Book-Title</th>\n",
       "      <th>Book-Author</th>\n",
       "      <th>Year-Of-Publication</th>\n",
       "      <th>Publisher</th>\n",
       "      <th>Image-URL-S</th>\n",
       "      <th>Image-URL-M</th>\n",
       "      <th>Image-URL-L</th>\n",
       "    </tr>\n",
       "  </thead>\n",
       "  <tbody>\n",
       "    <tr>\n",
       "      <th>0</th>\n",
       "      <td>276725</td>\n",
       "      <td>034545104X</td>\n",
       "      <td>0</td>\n",
       "      <td>tyler, texas, usa</td>\n",
       "      <td>NaN</td>\n",
       "      <td>Flesh Tones: A Novel</td>\n",
       "      <td>M. J. Rose</td>\n",
       "      <td>2002</td>\n",
       "      <td>Ballantine Books</td>\n",
       "      <td>http://images.amazon.com/images/P/034545104X.0...</td>\n",
       "      <td>http://images.amazon.com/images/P/034545104X.0...</td>\n",
       "      <td>http://images.amazon.com/images/P/034545104X.0...</td>\n",
       "    </tr>\n",
       "    <tr>\n",
       "      <th>1</th>\n",
       "      <td>2313</td>\n",
       "      <td>034545104X</td>\n",
       "      <td>5</td>\n",
       "      <td>cincinnati, ohio, usa</td>\n",
       "      <td>23.0</td>\n",
       "      <td>Flesh Tones: A Novel</td>\n",
       "      <td>M. J. Rose</td>\n",
       "      <td>2002</td>\n",
       "      <td>Ballantine Books</td>\n",
       "      <td>http://images.amazon.com/images/P/034545104X.0...</td>\n",
       "      <td>http://images.amazon.com/images/P/034545104X.0...</td>\n",
       "      <td>http://images.amazon.com/images/P/034545104X.0...</td>\n",
       "    </tr>\n",
       "    <tr>\n",
       "      <th>2</th>\n",
       "      <td>6543</td>\n",
       "      <td>034545104X</td>\n",
       "      <td>0</td>\n",
       "      <td>strafford, missouri, usa</td>\n",
       "      <td>34.0</td>\n",
       "      <td>Flesh Tones: A Novel</td>\n",
       "      <td>M. J. Rose</td>\n",
       "      <td>2002</td>\n",
       "      <td>Ballantine Books</td>\n",
       "      <td>http://images.amazon.com/images/P/034545104X.0...</td>\n",
       "      <td>http://images.amazon.com/images/P/034545104X.0...</td>\n",
       "      <td>http://images.amazon.com/images/P/034545104X.0...</td>\n",
       "    </tr>\n",
       "    <tr>\n",
       "      <th>3</th>\n",
       "      <td>8680</td>\n",
       "      <td>034545104X</td>\n",
       "      <td>5</td>\n",
       "      <td>st. charles county, missouri, usa</td>\n",
       "      <td>2.0</td>\n",
       "      <td>Flesh Tones: A Novel</td>\n",
       "      <td>M. J. Rose</td>\n",
       "      <td>2002</td>\n",
       "      <td>Ballantine Books</td>\n",
       "      <td>http://images.amazon.com/images/P/034545104X.0...</td>\n",
       "      <td>http://images.amazon.com/images/P/034545104X.0...</td>\n",
       "      <td>http://images.amazon.com/images/P/034545104X.0...</td>\n",
       "    </tr>\n",
       "    <tr>\n",
       "      <th>4</th>\n",
       "      <td>10314</td>\n",
       "      <td>034545104X</td>\n",
       "      <td>9</td>\n",
       "      <td>beaverton, oregon, usa</td>\n",
       "      <td>NaN</td>\n",
       "      <td>Flesh Tones: A Novel</td>\n",
       "      <td>M. J. Rose</td>\n",
       "      <td>2002</td>\n",
       "      <td>Ballantine Books</td>\n",
       "      <td>http://images.amazon.com/images/P/034545104X.0...</td>\n",
       "      <td>http://images.amazon.com/images/P/034545104X.0...</td>\n",
       "      <td>http://images.amazon.com/images/P/034545104X.0...</td>\n",
       "    </tr>\n",
       "  </tbody>\n",
       "</table>\n",
       "</div>"
      ],
      "text/plain": [
       "   User-ID        ISBN  Book-Rating                           Location   Age  \\\n",
       "0   276725  034545104X            0                  tyler, texas, usa   NaN   \n",
       "1     2313  034545104X            5              cincinnati, ohio, usa  23.0   \n",
       "2     6543  034545104X            0           strafford, missouri, usa  34.0   \n",
       "3     8680  034545104X            5  st. charles county, missouri, usa   2.0   \n",
       "4    10314  034545104X            9             beaverton, oregon, usa   NaN   \n",
       "\n",
       "             Book-Title Book-Author Year-Of-Publication         Publisher  \\\n",
       "0  Flesh Tones: A Novel  M. J. Rose                2002  Ballantine Books   \n",
       "1  Flesh Tones: A Novel  M. J. Rose                2002  Ballantine Books   \n",
       "2  Flesh Tones: A Novel  M. J. Rose                2002  Ballantine Books   \n",
       "3  Flesh Tones: A Novel  M. J. Rose                2002  Ballantine Books   \n",
       "4  Flesh Tones: A Novel  M. J. Rose                2002  Ballantine Books   \n",
       "\n",
       "                                         Image-URL-S  \\\n",
       "0  http://images.amazon.com/images/P/034545104X.0...   \n",
       "1  http://images.amazon.com/images/P/034545104X.0...   \n",
       "2  http://images.amazon.com/images/P/034545104X.0...   \n",
       "3  http://images.amazon.com/images/P/034545104X.0...   \n",
       "4  http://images.amazon.com/images/P/034545104X.0...   \n",
       "\n",
       "                                         Image-URL-M  \\\n",
       "0  http://images.amazon.com/images/P/034545104X.0...   \n",
       "1  http://images.amazon.com/images/P/034545104X.0...   \n",
       "2  http://images.amazon.com/images/P/034545104X.0...   \n",
       "3  http://images.amazon.com/images/P/034545104X.0...   \n",
       "4  http://images.amazon.com/images/P/034545104X.0...   \n",
       "\n",
       "                                         Image-URL-L  \n",
       "0  http://images.amazon.com/images/P/034545104X.0...  \n",
       "1  http://images.amazon.com/images/P/034545104X.0...  \n",
       "2  http://images.amazon.com/images/P/034545104X.0...  \n",
       "3  http://images.amazon.com/images/P/034545104X.0...  \n",
       "4  http://images.amazon.com/images/P/034545104X.0...  "
      ]
     },
     "execution_count": 25,
     "metadata": {},
     "output_type": "execute_result"
    }
   ],
   "source": [
    "df.head()"
   ]
  },
  {
   "cell_type": "code",
   "execution_count": 26,
   "id": "e8331a02",
   "metadata": {},
   "outputs": [
    {
     "data": {
      "text/plain": [
       "284030"
      ]
     },
     "execution_count": 26,
     "metadata": {},
     "output_type": "execute_result"
    }
   ],
   "source": [
    "books_count = df.groupby(\"ISBN\", as_index=False)[[\"User-ID\"]].count().rename(columns={\"User-ID\": \"book_count\"})\n",
    "users_count = df.groupby(\"User-ID\", as_index=False)[[\"ISBN\"]].count().rename(columns={\"ISBN\": \"user_count\"})\n",
    "filtered_data = df.merge(books_count, on=\"ISBN\").merge(users_count, on=\"User-ID\")\n",
    "filtered_data = filtered_data[(filtered_data.book_count >= 20) & (filtered_data.user_count >= 20)]\n",
    "len(filtered_data)"
   ]
  },
  {
   "cell_type": "code",
   "execution_count": 27,
   "id": "75f4e23c",
   "metadata": {},
   "outputs": [
    {
     "data": {
      "text/plain": [
       "Book-Rating\n",
       "0     192894\n",
       "8      22393\n",
       "10     18661\n",
       "9      16482\n",
       "7      14936\n",
       "5       8710\n",
       "6       6736\n",
       "4       1469\n",
       "3        963\n",
       "2        494\n",
       "1        292\n",
       "Name: count, dtype: int64"
      ]
     },
     "execution_count": 27,
     "metadata": {},
     "output_type": "execute_result"
    }
   ],
   "source": [
    "filtered_data[\"Book-Rating\"].value_counts()"
   ]
  },
  {
   "cell_type": "code",
   "execution_count": 28,
   "id": "0e10dc60",
   "metadata": {},
   "outputs": [
    {
     "data": {
      "text/plain": [
       "User-ID                  int64\n",
       "ISBN                    object\n",
       "Book-Rating              int64\n",
       "Location                object\n",
       "Age                    float64\n",
       "Book-Title              object\n",
       "Book-Author             object\n",
       "Year-Of-Publication     object\n",
       "Publisher               object\n",
       "Image-URL-S             object\n",
       "Image-URL-M             object\n",
       "Image-URL-L             object\n",
       "book_count               int64\n",
       "user_count               int64\n",
       "dtype: object"
      ]
     },
     "execution_count": 28,
     "metadata": {},
     "output_type": "execute_result"
    }
   ],
   "source": [
    "filtered_data.dtypes"
   ]
  },
  {
   "cell_type": "code",
   "execution_count": 29,
   "id": "548d48ef",
   "metadata": {},
   "outputs": [],
   "source": [
    "filtered_data['ISBN'] = pd.Categorical(filtered_data['ISBN'])\n",
    "filtered_data['ISBN'] = filtered_data['ISBN'].cat.codes\n",
    "\n",
    "filtered_data['User-ID'] = pd.Categorical(filtered_data['User-ID'])\n",
    "filtered_data['User-ID'] = filtered_data['User-ID'].cat.codes"
   ]
  },
  {
   "cell_type": "code",
   "execution_count": 30,
   "id": "31b8bf0b",
   "metadata": {},
   "outputs": [],
   "source": [
    "rating_map = {\n",
    "    0: 0,\n",
    "    1: 0,\n",
    "    2: 0,\n",
    "    3: 0,\n",
    "    4: 0,\n",
    "    5: 0,\n",
    "    6: 0,\n",
    "    7: 1,\n",
    "    8: 1,\n",
    "    9: 2,\n",
    "    10: 2\n",
    "}\n",
    "\n",
    "filtered_data[\"Book-Rating-NPS\"] = filtered_data[\"Book-Rating\"].map(rating_map)"
   ]
  },
  {
   "cell_type": "code",
   "execution_count": 31,
   "id": "31e750b8",
   "metadata": {},
   "outputs": [],
   "source": [
    "import matplotlib.pyplot as plt\n",
    "import seaborn as sns\n",
    "from sklearn.model_selection import train_test_split"
   ]
  },
  {
   "cell_type": "code",
   "execution_count": 32,
   "id": "3e196152",
   "metadata": {},
   "outputs": [],
   "source": [
    "filtered_data[\"Book-Rating\"] = pd.cut(filtered_data[\"Book-Rating\"], bins=11, labels=list(range(11)))\n",
    "filtered_data[\"Book-Rating-NPS\"] = pd.cut(filtered_data[\"Book-Rating-NPS\"], bins=3, labels=list(range(3)))\n",
    "filtered_data = filtered_data.drop(['Image-URL-S','Image-URL-M', 'Image-URL-L'], axis=1)"
   ]
  },
  {
   "cell_type": "code",
   "execution_count": 33,
   "id": "04259347",
   "metadata": {},
   "outputs": [
    {
     "data": {
      "text/html": [
       "<div>\n",
       "<style scoped>\n",
       "    .dataframe tbody tr th:only-of-type {\n",
       "        vertical-align: middle;\n",
       "    }\n",
       "\n",
       "    .dataframe tbody tr th {\n",
       "        vertical-align: top;\n",
       "    }\n",
       "\n",
       "    .dataframe thead th {\n",
       "        text-align: right;\n",
       "    }\n",
       "</style>\n",
       "<table border=\"1\" class=\"dataframe\">\n",
       "  <thead>\n",
       "    <tr style=\"text-align: right;\">\n",
       "      <th></th>\n",
       "      <th>User-ID</th>\n",
       "      <th>ISBN</th>\n",
       "      <th>Book-Rating</th>\n",
       "      <th>Location</th>\n",
       "      <th>Age</th>\n",
       "      <th>Book-Title</th>\n",
       "      <th>Book-Author</th>\n",
       "      <th>Year-Of-Publication</th>\n",
       "      <th>Publisher</th>\n",
       "      <th>book_count</th>\n",
       "      <th>user_count</th>\n",
       "      <th>Book-Rating-NPS</th>\n",
       "    </tr>\n",
       "  </thead>\n",
       "  <tbody>\n",
       "    <tr>\n",
       "      <th>1</th>\n",
       "      <td>44</td>\n",
       "      <td>1498</td>\n",
       "      <td>5</td>\n",
       "      <td>cincinnati, ohio, usa</td>\n",
       "      <td>23.0</td>\n",
       "      <td>Flesh Tones: A Novel</td>\n",
       "      <td>M. J. Rose</td>\n",
       "      <td>2002</td>\n",
       "      <td>Ballantine Books</td>\n",
       "      <td>60</td>\n",
       "      <td>36</td>\n",
       "      <td>0</td>\n",
       "    </tr>\n",
       "    <tr>\n",
       "      <th>2</th>\n",
       "      <td>44</td>\n",
       "      <td>6557</td>\n",
       "      <td>9</td>\n",
       "      <td>cincinnati, ohio, usa</td>\n",
       "      <td>23.0</td>\n",
       "      <td>Ender's Game (Ender Wiggins Saga (Paperback))</td>\n",
       "      <td>Orson Scott Card</td>\n",
       "      <td>1986</td>\n",
       "      <td>Tor Books</td>\n",
       "      <td>23</td>\n",
       "      <td>36</td>\n",
       "      <td>2</td>\n",
       "    </tr>\n",
       "    <tr>\n",
       "      <th>3</th>\n",
       "      <td>44</td>\n",
       "      <td>5868</td>\n",
       "      <td>8</td>\n",
       "      <td>cincinnati, ohio, usa</td>\n",
       "      <td>23.0</td>\n",
       "      <td>In Cold Blood (Vintage International)</td>\n",
       "      <td>TRUMAN CAPOTE</td>\n",
       "      <td>1994</td>\n",
       "      <td>Vintage</td>\n",
       "      <td>55</td>\n",
       "      <td>36</td>\n",
       "      <td>1</td>\n",
       "    </tr>\n",
       "    <tr>\n",
       "      <th>4</th>\n",
       "      <td>44</td>\n",
       "      <td>76</td>\n",
       "      <td>9</td>\n",
       "      <td>cincinnati, ohio, usa</td>\n",
       "      <td>23.0</td>\n",
       "      <td>Divine Secrets of the Ya-Ya Sisterhood : A Novel</td>\n",
       "      <td>Rebecca Wells</td>\n",
       "      <td>1996</td>\n",
       "      <td>HarperCollins</td>\n",
       "      <td>130</td>\n",
       "      <td>36</td>\n",
       "      <td>2</td>\n",
       "    </tr>\n",
       "    <tr>\n",
       "      <th>5</th>\n",
       "      <td>44</td>\n",
       "      <td>2283</td>\n",
       "      <td>5</td>\n",
       "      <td>cincinnati, ohio, usa</td>\n",
       "      <td>23.0</td>\n",
       "      <td>The Mistress of Spices</td>\n",
       "      <td>Chitra Banerjee Divakaruni</td>\n",
       "      <td>1998</td>\n",
       "      <td>Anchor Books/Doubleday</td>\n",
       "      <td>80</td>\n",
       "      <td>36</td>\n",
       "      <td>0</td>\n",
       "    </tr>\n",
       "  </tbody>\n",
       "</table>\n",
       "</div>"
      ],
      "text/plain": [
       "   User-ID  ISBN Book-Rating               Location   Age  \\\n",
       "1       44  1498           5  cincinnati, ohio, usa  23.0   \n",
       "2       44  6557           9  cincinnati, ohio, usa  23.0   \n",
       "3       44  5868           8  cincinnati, ohio, usa  23.0   \n",
       "4       44    76           9  cincinnati, ohio, usa  23.0   \n",
       "5       44  2283           5  cincinnati, ohio, usa  23.0   \n",
       "\n",
       "                                         Book-Title  \\\n",
       "1                              Flesh Tones: A Novel   \n",
       "2     Ender's Game (Ender Wiggins Saga (Paperback))   \n",
       "3             In Cold Blood (Vintage International)   \n",
       "4  Divine Secrets of the Ya-Ya Sisterhood : A Novel   \n",
       "5                            The Mistress of Spices   \n",
       "\n",
       "                  Book-Author Year-Of-Publication               Publisher  \\\n",
       "1                  M. J. Rose                2002        Ballantine Books   \n",
       "2            Orson Scott Card                1986               Tor Books   \n",
       "3               TRUMAN CAPOTE                1994                 Vintage   \n",
       "4               Rebecca Wells                1996           HarperCollins   \n",
       "5  Chitra Banerjee Divakaruni                1998  Anchor Books/Doubleday   \n",
       "\n",
       "   book_count  user_count Book-Rating-NPS  \n",
       "1          60          36               0  \n",
       "2          23          36               2  \n",
       "3          55          36               1  \n",
       "4         130          36               2  \n",
       "5          80          36               0  "
      ]
     },
     "execution_count": 33,
     "metadata": {},
     "output_type": "execute_result"
    }
   ],
   "source": [
    "filtered_data.head()"
   ]
  },
  {
   "cell_type": "code",
   "execution_count": 34,
   "id": "46ad0688",
   "metadata": {},
   "outputs": [],
   "source": [
    "import pandas as pd\n",
    "from sklearn.model_selection import train_test_split\n",
    "from sklearn.preprocessing import LabelEncoder\n",
    "\n",
    "# Assuming 'df' is the merged DataFrame\n",
    "\n",
    "# Select relevant columns for features and target\n",
    "features = [\"User-ID\",\"ISBN\",\"Location\",\"Age\",\"Book-Title\",\"Book-Author\",\"Year-Of-Publication\",\"Publisher\",\"book_count\",\"user_count\"]\n",
    "target = 'Book-Rating-NPS'\n",
    "\n",
    "# Encoding categorical features\n",
    "label_encoders = {}\n",
    "for feature in features:\n",
    "    if filtered_data[feature].dtype == 'object':\n",
    "        label_encoders[feature] = LabelEncoder()\n",
    "        filtered_data[feature] = label_encoders[feature].fit_transform(filtered_data[feature])\n",
    "\n",
    "# Splitting data into train and test sets\n",
    "X = filtered_data[features]\n",
    "y = filtered_data[target]\n",
    "\n",
    "X_train, X_test, y_train, y_test = train_test_split(X, y, test_size=0.2, random_state=42)\n"
   ]
  },
  {
   "cell_type": "code",
   "execution_count": 35,
   "id": "08586931",
   "metadata": {},
   "outputs": [
    {
     "name": "stdout",
     "output_type": "stream",
     "text": [
      "Epoch 1/2\n",
      "2841/2841 [==============================] - 13s 4ms/step - loss: nan - accuracy: 0.7453 - val_loss: nan - val_accuracy: 0.7417\n",
      "Epoch 2/2\n",
      "2841/2841 [==============================] - 12s 4ms/step - loss: nan - accuracy: 0.7455 - val_loss: nan - val_accuracy: 0.7417\n"
     ]
    }
   ],
   "source": [
    "from tensorflow.keras.layers import Embedding, Input, Flatten, Concatenate, Dense, Dropout\n",
    "from tensorflow.keras.models import Model\n",
    "from tensorflow.keras.optimizers import Adam\n",
    "\n",
    "\n",
    "num_books = filtered_data['Book-Title'].nunique()  \n",
    "embedding_dim = 50 \n",
    "\n",
    "# Input for book matrix\n",
    "book_input = Input(shape=(1,), name='book_input')\n",
    "book_embedding = Embedding(input_dim=num_books, output_dim=embedding_dim, input_length=1)(book_input)\n",
    "book_vec = Flatten()(book_embedding)\n",
    "\n",
    "# Additional features input\n",
    "other_input = Input(shape=(len(features),), name='other_input')\n",
    "\n",
    "concatenated = Concatenate()([book_vec, other_input])\n",
    "\n",
    "# Adding dense layers for prediction\n",
    "x = Dense(128, activation='relu')(concatenated)\n",
    "x = Dropout(0.2)(x)\n",
    "x = Dense(64, activation='relu')(x)\n",
    "x = Dropout(0.2)(x)\n",
    "output = Dense(11, activation='softmax')(x) \n",
    "\n",
    "# Creating the model\n",
    "model = Model(inputs=[book_input, other_input], outputs=output)\n",
    "\n",
    "# Compile the model\n",
    "model.compile(loss='sparse_categorical_crossentropy', optimizer=Adam(), metrics=['accuracy'])\n",
    "\n",
    "# Training the model\n",
    "history = model.fit([X_train['Book-Title'], X_train[features]], y_train, epochs=2, batch_size=64, validation_split=0.2)\n",
    "#validation_data=([X_test['Book-Title'], X_test[features]], y_test)"
   ]
  },
  {
   "cell_type": "markdown",
   "id": "f89c4c22",
   "metadata": {},
   "source": [
    "## Estructura de la red:"
   ]
  },
  {
   "cell_type": "code",
   "execution_count": 36,
   "id": "a077633b",
   "metadata": {},
   "outputs": [
    {
     "data": {
      "image/png": "[encoded data removed]",
      "text/plain": [
       "<IPython.core.display.Image object>"
      ]
     },
     "execution_count": 36,
     "metadata": {},
     "output_type": "execute_result"
    }
   ],
   "source": [
    "from tensorflow.keras.utils import plot_model\n",
    "\n",
    "# Assuming 'model' is the neural network model created previously\n",
    "\n",
    "# Plot the model architecture\n",
    "plot_model(model, to_file='neural_network_plot.png', show_shapes=True, show_layer_names=True)"
   ]
  },
  {
   "cell_type": "code",
   "execution_count": 37,
   "id": "092b9c71",
   "metadata": {},
   "outputs": [
    {
     "name": "stdout",
     "output_type": "stream",
     "text": [
      "1776/1776 [==============================] - 2s 1ms/step\n"
     ]
    },
    {
     "data": {
      "image/png": "[encoded data removed]",
      "text/plain": [
       "<Figure size 640x480 with 2 Axes>"
      ]
     },
     "metadata": {},
     "output_type": "display_data"
    }
   ],
   "source": [
    "from sklearn.metrics import confusion_matrix\n",
    "import seaborn as sns\n",
    "from sklearn.metrics import classification_report, accuracy_score, confusion_matrix, ConfusionMatrixDisplay\n",
    "\n",
    "#y_pred = model.predict([X_test['Book-Title'], X_test[features]], y_test)\n",
    "predictions_1 = np.argmax(model.predict([X_test['Book-Title'], X_test[features]]), axis=1)\n",
    "\n",
    "ConfusionMatrixDisplay.from_predictions(y_test, predictions_1, cmap='Blues')\n",
    "plt.show()"
   ]
  },
  {
   "cell_type": "markdown",
   "id": "f0c60587",
   "metadata": {},
   "source": [
    "### Modelo Final elegido:\n",
    "\n",
    "Analizando el resultado de ambos tipos de sistemas de recomendacion, se demostró que segun las implementaciones realizadas el modelo 3 del Colaborative Filtering obtuvo mejores resultados y "
   ]
  },
  {
   "cell_type": "code",
   "execution_count": null,
   "id": "96611750",
   "metadata": {},
   "outputs": [],
   "source": []
  },
  {
   "cell_type": "code",
   "execution_count": null,
   "id": "18b23b63",
   "metadata": {},
   "outputs": [],
   "source": []
  }
 ],
 "metadata": {
  "kernelspec": {
   "display_name": "Python 3",
   "language": "python",
   "name": "python3"
  },
  "language_info": {
   "codemirror_mode": {
    "name": "ipython",
    "version": 3
   },
   "file_extension": ".py",
   "mimetype": "text/x-python",
   "name": "python",
   "nbconvert_exporter": "python",
   "pygments_lexer": "ipython3",
   "version": "3.8.8"
  }
 },
 "nbformat": 4,
 "nbformat_minor": 5
}
